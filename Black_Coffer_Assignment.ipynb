{
  "nbformat": 4,
  "nbformat_minor": 0,
  "metadata": {
    "colab": {
      "provenance": []
    },
    "kernelspec": {
      "name": "python3",
      "display_name": "Python 3"
    },
    "language_info": {
      "name": "python"
    }
  },
  "cells": [
    {
      "cell_type": "markdown",
      "source": [
        "# Importing Packages\n"
      ],
      "metadata": {
        "id": "KbNyY9N95C18"
      }
    },
    {
      "cell_type": "code",
      "source": [
        "import pandas as pd\n",
        "import numpy as np\n",
        "from bs4 import BeautifulSoup as bs\n",
        "from urllib.request import urlopen as ureq\n",
        "import requests\n",
        "import urllib\n",
        "import re\n",
        "import os\n",
        "\n",
        "data = pd.read_excel(\"Input.xlsx\")"
      ],
      "metadata": {
        "id": "mO7-V77mpf1U"
      },
      "execution_count": 144,
      "outputs": []
    },
    {
      "cell_type": "code",
      "source": [
        "import nltk\n",
        "from nltk.tokenize import word_tokenize\n",
        "from nltk.stem import WordNetLemmatizer"
      ],
      "metadata": {
        "id": "6scPY0YN-Tys"
      },
      "execution_count": 145,
      "outputs": []
    },
    {
      "cell_type": "code",
      "source": [
        "data['URL']"
      ],
      "metadata": {
        "colab": {
          "base_uri": "https://localhost:8080/"
        },
        "id": "3bxMzSAg4dtV",
        "outputId": "e4eabf7c-ce67-4f44-d8ae-111b05163a43"
      },
      "execution_count": 146,
      "outputs": [
        {
          "output_type": "execute_result",
          "data": {
            "text/plain": [
              "0     https://insights.blackcoffer.com/rising-it-cit...\n",
              "1     https://insights.blackcoffer.com/rising-it-cit...\n",
              "2     https://insights.blackcoffer.com/internet-dema...\n",
              "3     https://insights.blackcoffer.com/rise-of-cyber...\n",
              "4     https://insights.blackcoffer.com/ott-platform-...\n",
              "                            ...                        \n",
              "95    https://insights.blackcoffer.com/what-is-the-r...\n",
              "96    https://insights.blackcoffer.com/impact-of-cov...\n",
              "97    https://insights.blackcoffer.com/contribution-...\n",
              "98    https://insights.blackcoffer.com/how-covid-19-...\n",
              "99    https://insights.blackcoffer.com/how-will-covi...\n",
              "Name: URL, Length: 100, dtype: object"
            ]
          },
          "metadata": {},
          "execution_count": 146
        }
      ]
    },
    {
      "cell_type": "code",
      "source": [
        "article_titles = []\n",
        "for i, url in enumerate(data['URL']):\n",
        "    response_code = requests.get(url)\n",
        "    soup = bs(response_code.text, 'html.parser')\n",
        "    article_title = soup.find('title').text\n",
        "    article_titles.append(article_title)\n"
      ],
      "metadata": {
        "id": "a3Qp_HUjpyW8"
      },
      "execution_count": 147,
      "outputs": []
    },
    {
      "cell_type": "code",
      "source": [
        "article_titles"
      ],
      "metadata": {
        "colab": {
          "base_uri": "https://localhost:8080/"
        },
        "id": "9icdT-422xS-",
        "outputId": "8652cda4-5d44-497e-f14f-08167e925dcf"
      },
      "execution_count": 148,
      "outputs": [
        {
          "output_type": "execute_result",
          "data": {
            "text/plain": [
              "['Rising IT cities and its impact on the economy, environment, infrastructure, and city life by the year 2040. - Blackcoffer Insights',\n",
              " 'Rising IT Cities and Their Impact on the Economy, Environment, Infrastructure, and City Life in Future - Blackcoffer Insights',\n",
              " \"Internet Demand's Evolution, Communication Impact, and 2035's Alternative Pathways - Blackcoffer Insights\",\n",
              " 'Rise of Cybercrime and its Effect in upcoming Future - Blackcoffer Insights',\n",
              " 'OTT platform and its impact on the entertainment industry in Future. - Blackcoffer Insights',\n",
              " 'The rise of the OTT platform and its impact on the entertainment industry by 2040. - Blackcoffer Insights',\n",
              " 'Rise of Cyber Crime and its Effects - Blackcoffer Insights',\n",
              " 'Rise of Internet Demand and Its Impact on Communications and Alternatives by the Year 2035 - Blackcoffer Insights',\n",
              " 'Rise of Cybercrime and its Effect by the Year 2040. - Blackcoffer Insights',\n",
              " 'Rise of Cybercrime and its Effect by the Year 2040. - Blackcoffer Insights',\n",
              " 'Rise of Internet Demand and its Impact on Communications and Alternatives by the Year 2035. - Blackcoffer Insights',\n",
              " 'Rise of telemedicine and its Impact on Livelihood by 2040 - Blackcoffer Insights',\n",
              " 'Rise of e-health and its impact on humans by the year 2030 - Blackcoffer Insights',\n",
              " 'Rise of e-health and its impact on humans by the year 2030 - Blackcoffer Insights',\n",
              " 'Rise of telemedicine and its Impact on Livelihood by 2040 - Blackcoffer Insights',\n",
              " 'Rise of telemedicine and its Impact on Livelihood by 2040 - Blackcoffer Insights',\n",
              " 'Rise of Chatbots and its impact on customer support by the year 2040 - Blackcoffer Insights',\n",
              " 'Rise of e-health and its impact on humans by the year 2030 - Blackcoffer Insights',\n",
              " 'How does marketing influence businesses and consumers? - Blackcoffer Insights',\n",
              " 'How advertisement increase your market value? - Blackcoffer Insights',\n",
              " 'Negative effects of marketing on society - Blackcoffer Insights',\n",
              " 'How advertisement/marketing affects business. - Blackcoffer Insights',\n",
              " 'Rising IT cities will impact the economy, environment, infrastructure, and city life by the year 2035 - Blackcoffer Insights',\n",
              " 'Rise of OTT platform and its impact on entertainment industry by the year 2030 - Blackcoffer Insights',\n",
              " 'Rise of Electric Vehicles and its Impact on Livelihood by 2040 - Blackcoffer Insights',\n",
              " 'Rise of electric vehicle and its impact on livelihood by the year 2040. - Blackcoffer Insights',\n",
              " 'Oil prices by the year 2040, and how it will impact the world economy. - Blackcoffer Insights',\n",
              " 'An outlook of healthcare by the year 2040, and how it will impact human lives. - Blackcoffer Insights',\n",
              " 'AI in healthcare to Improve Patient Outcomes - Blackcoffer Insights',\n",
              " 'What if the Creation is Taking Over the Creator? - Blackcoffer Insights',\n",
              " 'What Jobs Will Robots Take From Humans in The Future? - Blackcoffer Insights',\n",
              " 'Will Machine Replace The Human in the Future of Work? - Blackcoffer Insights',\n",
              " 'Will AI Replace Us or Work With Us? - Blackcoffer Insights',\n",
              " 'Will machine replace the human in the future of work? - Blackcoffer Insights',\n",
              " 'How humans and machines are evolving to work together? - Blackcoffer Insights',\n",
              " 'Page not found - Blackcoffer Insights',\n",
              " 'How machine learning will affect your business? - Blackcoffer Insights',\n",
              " 'Deep learning impact on areas of e-learning? - Blackcoffer Insights',\n",
              " 'How to protect future data and its privacy? - Blackcoffer Insights',\n",
              " 'How Machines, AI, Automations, and Robo-human are Effective in Finance and Banking? - Blackcoffer Insights',\n",
              " 'How Robo Human will Impact the Future? - Blackcoffer Insights',\n",
              " 'How AI will change the World? - Blackcoffer Insights',\n",
              " 'Future of Work: How AI Has Entered the Workplace - Blackcoffer Insights',\n",
              " 'How machine learning used in finance and banking? - Blackcoffer Insights',\n",
              " 'How AI will impact the future of work? - Blackcoffer Insights',\n",
              " 'All you need to know about online marketing - Blackcoffer Insights',\n",
              " 'Evolution of Advertising Industry - Blackcoffer Insights',\n",
              " 'How Data Analytics can help your business respond to the impact of COVID-19? - Blackcoffer Insights',\n",
              " 'Page not found - Blackcoffer Insights',\n",
              " 'Environmental impact of the COVID-19 pandemic – Lesson for the Future - Blackcoffer Insights',\n",
              " 'How Data Analytics and AI are used to halt the COVID-19 Pandemic? - Blackcoffer Insights',\n",
              " 'AI Machine Learning Statistics and Data Mining - what is the difference',\n",
              " \"Python became the choice for Data Science - how | let's know\",\n",
              " 'Google fit measure heart and respiratory rates using phone -how',\n",
              " 'mobile apps - Future | blackcoffer insights | know more about unknow facts',\n",
              " 'AI in health and medicine | impact of AI | blackcoffer insights',\n",
              " 'telemedicine - What patients like and dislike about it | blackcoffer insights',\n",
              " 'forecast future technologies- how to | blackcoffer insights',\n",
              " 'Can robots tackle life loneliness | blackcoffer insights',\n",
              " 'Socio-technical considerations - Embedding care robots into society',\n",
              " 'future digitalization of healthcare services | management challenges',\n",
              " 'Are we any closer to preventing a nuclear holocaust? - Blackcoffer Insights',\n",
              " 'Will technology eliminate the need for animal testing in drug development? - Blackcoffer Insights',\n",
              " 'Will we ever understand the nature of consciousness? - Blackcoffer Insights',\n",
              " 'Will we ever colonize outer space? - Blackcoffer Insights',\n",
              " 'What is the chance Homo sapiens will survive for the next 500 years? - Blackcoffer Insights',\n",
              " 'Why does your business need a chatbot? - Blackcoffer Insights',\n",
              " 'How you lead a project or a team without any technical expertise? - Blackcoffer Insights',\n",
              " 'Can You Be Great Leader Without Technical Expertise - Blackcoffer Insights',\n",
              " 'How does artificial intelligence affect the environment - Blackcoffer Insights',\n",
              " 'How to Overcome Your Fear of Making Mistakes - Blackcoffer Insights',\n",
              " 'Is Perfection the Greatest enemy of Productivity? - Blackcoffer Insights',\n",
              " 'Global financial crisis 2008 causes/effects and its solution - Blackcoffer Insights',\n",
              " 'Gender diversity and Equality in the tech industry - Blackcoffer Insights',\n",
              " 'How to overcome your fear of making mistakes? - Blackcoffer Insights',\n",
              " 'How Small Business can survive the Coronavirus Crisis - Blackcoffer Insights',\n",
              " 'Impacts of COVID 19 on Food products - Blackcoffer Insights',\n",
              " 'Impacts of COVID 19 on Vegetable Vendors - Blackcoffer Insights',\n",
              " 'Impact of COVID-19 pandemic on Tourism & Aviation industries - Blackcoffer Insights',\n",
              " 'Impact of COVID-19 pandemic on sports events around the world. - Blackcoffer Insights',\n",
              " 'Changing landscape and emerging trends in the Indian IT/ITeS Industry. - Blackcoffer Insights',\n",
              " 'Online gaming: Adolescent online gaming effects us | how',\n",
              " 'Human Rights Outlook - Blackcoffer Insights',\n",
              " 'How Voice search makes your business a successful business. - Blackcoffer Insights',\n",
              " 'How the COVID-19 crisis is redefining jobs and services? - Blackcoffer Insights',\n",
              " 'How to increase social media engagement for marketers? - Blackcoffer Insights',\n",
              " 'Impacts of COVID 19 on Streets Sides Food Stalls - Blackcoffer Insights',\n",
              " 'Coronavirus impact on energy markets - Blackcoffer Insights',\n",
              " 'COVID-19 Impact on Hospitality Industrty | blackcoffer insights',\n",
              " 'key learnings relevant to the coronavirus crisis | Lessons from the past',\n",
              " 'Estimating the impact of COVID-19 on the world of work - Blackcoffer Insights',\n",
              " 'Estimating the impact of COVID-19 on the world of work - Blackcoffer Insights',\n",
              " 'Travel and Tourism Outlook - Blackcoffer Insights',\n",
              " 'Gaming Disorder and Effects of Gaming on Health. - Blackcoffer Insights',\n",
              " 'What is the repercussion of the environment due to the COVID-19 pandemic situation? - Blackcoffer Insights',\n",
              " 'Due to the COVID-19 the repercussion of the environment - Blackcoffer Insights',\n",
              " 'Impact of COVID-19 pandemic on office space and co-working industries. - Blackcoffer Insights',\n",
              " 'Contribution of handicrafts (Visual Arts & Literature) in the Indian economy - Blackcoffer Insights',\n",
              " 'How COVID-19 is impacting payment preferences? - Blackcoffer Insights',\n",
              " 'How will COVID-19 affect the world of work? - Blackcoffer Insights']"
            ]
          },
          "metadata": {},
          "execution_count": 148
        }
      ]
    },
    {
      "cell_type": "code",
      "source": [
        "url = 'https://insights.blackcoffer.com/rising-it-cities-and-its-impact-on-the-economy-environment-infrastructure-and-city-life-by-the-year-2040/'\n",
        "response_code = requests.get(url)\n",
        "soup = bs(response_code.text, 'html.parser')\n",
        "all_texts = soup.find(\"div\",class_=\"td-post-content tagdiv-type\").get_text(strip = True, separator='\\n')\n",
        "firstdata = all_texts.splitlines()\n",
        "firstdata"
      ],
      "metadata": {
        "colab": {
          "base_uri": "https://localhost:8080/"
        },
        "id": "sr4k92kA4NC8",
        "outputId": "f1328d2f-c505-4096-f457-d76bca628417"
      },
      "execution_count": 149,
      "outputs": [
        {
          "output_type": "execute_result",
          "data": {
            "text/plain": [
              "['In the present world, there is an increase in IT cities,\\xa0 which is the demand of all the people who are living with\\xa0 #frolic. \\xa02040 isn’t that far into the future. There won’t be any revolutionary design change in the exteriors of the cities, that is how they look like from the #outside. The building and infrastructure will be similar to today.',\n",
              " 'According to one of the most frequently cited definitions of a smart city (Albino et al., 2015), “a city is smart when investments in human and social capital, as well as traditional (transport) and modern (ICT) communication infrastructure, fuel sustainable economic growth and a high quality of life, with wise management of natural resources, through participatory governance” (Caragliu et al., 2011, p. 70). Given that cities can be viewed as integrated systems, traditional infrastructure may include vertical systems other than transportation, such as energy, governance, and urban structures. “Smartness” then emerges as a set of long-term interconnections between fields that use cutting-edge technology, such as ICT, to connect those to the critical environment that city dwellers require daily. The key drivers, trends, and potential impacts of future developments in this field are primarily related to the growing challenges of cities, such as environmental issues, supportive policies and initiatives, technological innovation, and privacy, security, safety, and ethical concerns. Smart city initiatives address these issues through the use of technology, both by providing digital solutions and by empowering citizens to connect, exchange knowledge, and innovate (Albino et al., 2015; Angelidou, 2017). At the same time, cities’ role in combating climate change and eliminating pollution is critical (World Bank, 2020). In this regard, cities provide ecosystems, biodiversity, and human communities that are relevant at the global and regional levels, potentially reducing vulnerabilities and facilitating adaptation capacities to climate change (IPCC, 2022). Smart infrastructure encourages more efficient resource consumption, among other things, by improving building energy efficiency with sensors and optimising urban transportation through real-time data analysis, thereby promoting the proliferation of smart city initiatives (Radu, 2020; Timeus et al., 2020).',\n",
              " 'By the year 2040, urbanisation had altered both the nation and the world. With China already surpassing the USA and India surpassing Japan to become the second-largest \\xa0#economy in the world, India is now trailing China in terms of urbanisation, with 675 million people living in urbanised cities compared to China’s 1 billion inhabitants. But what does urbanisation cost? Cost to society? Is it a good or bad thing? Were we able to leave more easily or are we becoming more AI-driven? Whether it’s been the industrial revolution in the 18th century or the development of the Internet, technology has always been the driving force behind any change in society. The world has undergone tremendous change and continues to do so as cities become smarter, offering more opportunities and a better quality of life. Cities are the drivers of economic development and modernization, and they alter the course of history. Considering that half of humanity now resides in cities. Urbanization is what is miraculously altering the growth trajectory. The cities that are currently among the top 10 in terms of GDP share may not be on the list in 2040. According to a report by Oxford Economics, the majority of the cities will be in Asia, with New York and London continuing to lead due to their strong ties to the banking and finance industries. Similarly to this, a nation’s population and demographics can contribute significantly to its growth. India’s rapidly growing working-age population will be to their advantage, and the nation is expected to host some of the fastest-growing cities in the world in the years to come. The West is also taken aback by the annual GDP growth rate of the cities that are predicted to top the charts. There are no longer any cities in the West; instead, all of the major cities are in the Asian region, which is dominated by China and India. Bangalore, which has experienced an enormous 8.5 per cent GDP growth, is in first place, followed by Dhaka, Mumbai, and Delhi. Bangalore’s startup culture and enormous talent pool set it apart from other cities. Bangalore itself is probably going to be the next Silicon Valley of Asia and the entire world. It now creates a huge number of startups. It has the potential to rank among the world’s most urbanised cities. These cities will outpace the global average annual \\xa0#GDP growth rate, which is expected to be around 2.5%, by a sizeable margin.',\n",
              " 'Undoubtedly, nations will expand and cities will modernise to meet societal demands. Urban city growth has largely been attributed to rural-to-urban migration. However, the future will be better for us and our offspring if we can maintain a balance between the environment and sustainable growth. We are being impacted by climate change, which is real. In large areas, the effects of climate change will worsen the environment through prolonged heat waves, more erratic rainfall, drought, and flooding. As we can see in Pakistan, China, and Europe. Europe as a whole has experienced heat waves that have disrupted society, and China is currently dealing with extreme heat waves that are drying up the rivers and making it impossible to produce hydroelectricity. In Pakistan, there were an unusually high number of floods. Out of 160 districts, 110 are underwater, representing a loss of almost $10 billion. The rural agrarian and pastoralist communities of society, which heavily rely on the environment, are particularly impacted by these effects. Climate-driven migration is likely to rise as livelihoods all over the world are disrupted more and more by climate change. According to the World Bank Groundswell report, Sub-Saharan Africa and Southeast Asia could experience massive internal migration of more than 130 million people if urgent national and international climate action is not taken immediately. 2018’s Rigaud et al. The broader prospects of regional environments are also impacted by urbanisation. Large increases in the amount of air pollution, precipitation, and the number of days with thunderstorms are also observed in areas that are downwind from large industrial complexes. Urban areas produce more precipitation, but they also have less water filtration, which lowers the water tables.',\n",
              " 'Respiratory infections and other infectious and parasitic diseases are among the health effects of environmental issues. When compared to people living in rural areas, capital costs for building improved environmental infrastructure are also more expensive. For instance, investments in a cleaner public transport system, like a tube, as well as for building more hospitals and clinics are more expensive in urban areas where wages are higher.',\n",
              " 'In the process of urbanisation, infrastructure does indeed play a significant role. India is currently working towards having an economy worth $5 trillion and is creating a massive infrastructure to support it. The veins of an economy are things like roads, bridges, and rail networks. Similar to how China built a vast network of infrastructures to support its economy India must prioritise certain industries for both inclusive and exclusive growth as the nation strives to become a manufacturing hub.',\n",
              " 'India must develop a more effective and quick network to support the movement of logistics. As India transitions from highways to motorways, it is often said that roads are the true reflection of the economy. This transition must be maintained so that infrastructure will soon be ready to advance rapidly. Therefore, ring-fencing of capital expenditure levels as a share of the Gross Domestic Product (GDP) becomes essential to enable macroeconomic stabilisation through the expansion of revenue expenditure.',\n",
              " 'Urban areas consume significantly more energy than rural villages do for heating, cooking, transportation, and electricity. For instance, today’s urban populations have more cars than rural ones. In the 1930s, the United States was home to nearly all of the cars produced worldwide. Today, that nation has a car for every two citizens. The top three nations in terms of greenhouse gas emissions are China, the United States, and India. If that were to become the norm, there would be close to 5.3 billion cars on the road worldwide in 2050, all of which would be generating emissions that would be destroying the environment.',\n",
              " 'Smart city initiatives, strategies, and applications may gradually spread and have both positive and negative effects. Emergency response times, typical commute times, and disease burden can all be improved by 10%–30%, while greenhouse gas emissions can be decreased by 10%–15% in cities (McKinsey Global Institute, 2018). Authorities can increase their effectiveness by valuing intelligent technologies. For example, they can use data collection applications to support their decision-making processes or enhance public procurement (Basukie et al., 2020; Bellini et al., 2022). (OECD, 2016). Additionally, citizens can have direct conversations with higher levels of trust in decision-makers (Desouza and Bhagwatwar, 2012). Smart infrastructure, which enables data collection on marginalised social groups like women, the elderly, and people with disabilities, as well as informal settlements and sectors, also has the potential to support social inclusion. Adopting public policies that specifically address the needs of these groups can be made easier with the help of the adoption of smart city applications, however, raises serious privacy, security, safety, and ethical concerns, including the following three problems: the risk of technological “lock-in,” as in some cases private companies may try to propose technologies that depend solely on their maintenance support, creating a monopoly-like control of smart technologies within the city (Clever et al., 2018; Kitchin, 2016); (ii) the risk of biassed inferences, as some applications, such as crime detection mechanisms, can generate inaccurate characterizations that create or reinforce social stigma and personal harm (Kitchin, 2016). Onufrey and Bergek, 2021); (ii) the corporatization of urban governance (the risk that the business model logic may be misinterpreted as a “profit-driven or cost-driven logic,” leading to citizens being treated unfairly as customers and adopting practises that undermine the government’s social and environmental goals; and (iii) the corporatization of business models (Onufrey and Bergek, 2021). (Timeus et al., 2020)',\n",
              " 'Of course, a wide range of factors, such as financial recessions, wars, food security, pandemics, political unrest, rapid urbanisation, and technological advancements, could have an impact on these projections for 2040. But one thing is certain: in the upcoming decades, cities will be the places where many of these factors will come together and take centre stage.',\n",
              " \"Blackcoffer Insights 47: Rajshree Kumari, St. Xavier's College\"]"
            ]
          },
          "metadata": {},
          "execution_count": 149
        }
      ]
    },
    {
      "cell_type": "code",
      "source": [
        "with open('/content/merge_from_ofoct.txt', 'r', encoding='latin1') as stopwordsfile:\n",
        "    # Read the contents of the file\n",
        "    stopwords = stopwordsfile.read().lower()\n",
        "    stopWordList = stopwords.split('\\n')\n",
        "    stopWordList\n"
      ],
      "metadata": {
        "id": "oLNVynk2-O73"
      },
      "execution_count": 150,
      "outputs": []
    },
    {
      "cell_type": "code",
      "source": [
        "with open('/content/positive-words.txt', 'r', encoding='latin1') as poswordsfile:\n",
        "    # Read the contents of the file\n",
        "    poswords = poswordsfile.read().lower()\n",
        "positiveWordList=poswords.split('\\n')"
      ],
      "metadata": {
        "id": "GOSHJdgluiOz"
      },
      "execution_count": 151,
      "outputs": []
    },
    {
      "cell_type": "code",
      "source": [
        "with open('/content/negative-words.txt', 'r', encoding='latin1') as negwordsfile:\n",
        "    # Read the contents of the file\n",
        "    negwords = negwordsfile.read().lower()\n",
        "negativeWordList=negwords.split('\\n')"
      ],
      "metadata": {
        "id": "S7piDBsMwljs"
      },
      "execution_count": 152,
      "outputs": []
    },
    {
      "cell_type": "markdown",
      "source": [
        "# Cleaning using Stop Words Lists\n"
      ],
      "metadata": {
        "id": "KKjBaPuCuBFQ"
      }
    },
    {
      "cell_type": "code",
      "source": [
        "import nltk\n",
        "nltk.download('punkt')\n",
        "global tokens\n",
        "def tokenizer(data_list):\n",
        "    # Initialize an empty list to store filtered tokens from all strings\n",
        "    all_filtered_words = []\n",
        "\n",
        "    # Tokenize each string in the list\n",
        "    for text in data_list:\n",
        "        # Tokenize the current string\n",
        "        tokens = nltk.word_tokenize(text.lower())\n",
        "\n",
        "        # Filter tokens using stop words list\n",
        "        filtered_words = [token for token in tokens if token not in stopWordList]\n",
        "\n",
        "        # Remove punctuation\n",
        "        filtered_words = [word for word in filtered_words if word.isalnum()]\n",
        "\n",
        "        # Append filtered words to the list of all filtered words\n",
        "        all_filtered_words.extend(filtered_words)\n",
        "\n",
        "    return all_filtered_words\n",
        "\n",
        "\n",
        "filtered_tokens = tokenizer(firstdata)\n",
        "print(filtered_tokens)\n"
      ],
      "metadata": {
        "colab": {
          "base_uri": "https://localhost:8080/"
        },
        "id": "7-gQQ-A6zb-B",
        "outputId": "174533f8-f1cc-4680-ad69-8a69a62edb0a"
      },
      "execution_count": 153,
      "outputs": [
        {
          "output_type": "stream",
          "name": "stderr",
          "text": [
            "[nltk_data] Downloading package punkt to /root/nltk_data...\n",
            "[nltk_data]   Package punkt is already up-to-date!\n"
          ]
        },
        {
          "output_type": "stream",
          "name": "stdout",
          "text": [
            "['present', 'world', 'increase', 'cities', 'demand', 'people', 'living', 'frolic', '2040', 'isn', 'future', 'won', 'revolutionary', 'design', 'change', 'exteriors', 'cities', 'building', 'infrastructure', 'similar', 'today', 'frequently', 'cited', 'definitions', 'albino', '2015', 'investments', 'human', 'social', 'capital', 'traditional', 'transport', 'modern', 'ict', 'communication', 'infrastructure', 'fuel', 'sustainable', 'economic', 'growth', 'quality', 'life', 'management', 'natural', 'resources', 'participatory', 'governance', 'caragliu', '2011', '70', 'cities', 'viewed', 'integrated', 'systems', 'traditional', 'infrastructure', 'include', 'vertical', 'systems', 'transportation', 'energy', 'governance', 'structures', 'smartness', 'emerges', 'set', 'interconnections', 'technology', 'ict', 'connect', 'critical', 'environment', 'dwellers', 'require', 'drivers', 'trends', 'potential', 'impacts', 'future', 'developments', 'primarily', 'related', 'growing', 'challenges', 'cities', 'environmental', 'issues', 'supportive', 'policies', 'initiatives', 'technological', 'innovation', 'privacy', 'security', 'safety', 'ethical', 'concerns', 'initiatives', 'address', 'issues', 'technology', 'providing', 'digital', 'solutions', 'empowering', 'citizens', 'connect', 'exchange', 'knowledge', 'innovate', 'albino', '2015', 'angelidou', '2017', 'time', 'cities', 'role', 'combating', 'climate', 'change', 'eliminating', 'pollution', 'critical', 'world', 'bank', '2020', 'regard', 'cities', 'provide', 'ecosystems', 'biodiversity', 'human', 'communities', 'relevant', 'global', 'regional', 'levels', 'potentially', 'reducing', 'vulnerabilities', 'facilitating', 'adaptation', 'capacities', 'climate', 'change', 'ipcc', '2022', 'infrastructure', 'encourages', 'efficient', 'resource', 'consumption', 'things', 'improving', 'building', 'energy', 'efficiency', 'sensors', 'optimising', 'transportation', 'data', 'analysis', 'promoting', 'proliferation', 'initiatives', 'radu', '2020', 'timeus', '2020', '2040', 'urbanisation', 'altered', 'world', 'surpassing', 'surpassing', 'economy', 'world', 'trailing', 'terms', 'urbanisation', '675', 'people', 'living', 'urbanised', 'cities', 'compared', '1', 'inhabitants', 'urbanisation', 'cost', 'cost', 'society', 'bad', 'thing', 'leave', 'easily', 'industrial', 'revolution', '18th', 'century', 'development', 'internet', 'technology', 'driving', 'force', 'change', 'society', 'world', 'undergone', 'tremendous', 'change', 'continues', 'cities', 'smarter', 'offering', 'opportunities', 'quality', 'life', 'cities', 'drivers', 'economic', 'development', 'modernization', 'alter', 'history', 'half', 'humanity', 'resides', 'cities', 'urbanization', 'miraculously', 'altering', 'growth', 'trajectory', 'cities', 'top', '10', 'terms', 'gdp', 'share', 'list', 'report', 'economics', 'majority', 'cities', 'continuing', 'lead', 'due', 'ties', 'banking', 'finance', 'industries', 'similarly', 'population', 'demographics', 'contribute', 'significantly', 'growth', 'rapidly', 'growing', 'population', 'advantage', 'expected', 'host', 'cities', 'world', 'years', 'aback', 'gdp', 'growth', 'rate', 'cities', 'predicted', 'top', 'charts', 'longer', 'cities', 'cities', 'asian', 'region', 'dominated', 'bangalore', 'experienced', 'enormous', 'cent', 'gdp', 'growth', 'dhaka', 'bangalore', 'startup', 'culture', 'enormous', 'talent', 'set', 'cities', 'bangalore', 'silicon', 'entire', 'world', 'creates', 'huge', 'number', 'startups', 'potential', 'rank', 'world', 'urbanised', 'cities', 'cities', 'outpace', 'global', 'average', 'gdp', 'growth', 'rate', 'expected', 'sizeable', 'margin', 'undoubtedly', 'expand', 'cities', 'modernise', 'meet', 'societal', 'demands', 'growth', 'largely', 'attributed', 'migration', 'future', 'offspring', 'maintain', 'balance', 'environment', 'sustainable', 'growth', 'impacted', 'climate', 'change', 'areas', 'effects', 'climate', 'change', 'worsen', 'environment', 'prolonged', 'heat', 'waves', 'erratic', 'rainfall', 'drought', 'flooding', 'experienced', 'heat', 'waves', 'disrupted', 'society', 'dealing', 'extreme', 'heat', 'waves', 'drying', 'making', 'impossible', 'produce', 'hydroelectricity', 'unusually', 'number', 'floods', '160', 'districts', '110', 'underwater', 'representing', 'loss', '10', 'rural', 'agrarian', 'pastoralist', 'communities', 'society', 'heavily', 'rely', 'environment', 'impacted', 'effects', 'migration', 'rise', 'livelihoods', 'world', 'disrupted', 'climate', 'change', 'world', 'bank', 'groundswell', 'report', 'experience', 'massive', 'internal', 'migration', '130', 'people', 'urgent', 'national', 'international', 'climate', 'action', 'immediately', '2018', 'rigaud', 'broader', 'prospects', 'regional', 'environments', 'impacted', 'urbanisation', 'increases', 'amount', 'air', 'pollution', 'precipitation', 'number', 'days', 'thunderstorms', 'observed', 'areas', 'downwind', 'industrial', 'complexes', 'areas', 'produce', 'precipitation', 'water', 'filtration', 'lowers', 'water', 'tables', 'respiratory', 'infections', 'infectious', 'parasitic', 'diseases', 'health', 'effects', 'environmental', 'issues', 'compared', 'people', 'living', 'rural', 'areas', 'capital', 'costs', 'building', 'improved', 'environmental', 'infrastructure', 'expensive', 'instance', 'investments', 'cleaner', 'public', 'transport', 'system', 'tube', 'building', 'hospitals', 'clinics', 'expensive', 'areas', 'higher', 'process', 'urbanisation', 'infrastructure', 'play', 'significant', 'role', 'working', 'economy', '5', 'creating', 'massive', 'infrastructure', 'support', 'veins', 'economy', 'things', 'roads', 'rail', 'networks', 'similar', 'built', 'vast', 'network', 'infrastructures', 'support', 'economy', 'prioritise', 'industries', 'inclusive', 'exclusive', 'growth', 'strives', 'manufacturing', 'hub', 'develop', 'effective', 'network', 'support', 'movement', 'logistics', 'transitions', 'highways', 'motorways', 'roads', 'reflection', 'economy', 'transition', 'maintained', 'infrastructure', 'advance', 'rapidly', 'capital', 'expenditure', 'levels', 'share', 'domestic', 'product', 'gdp', 'essential', 'enable', 'macroeconomic', 'stabilisation', 'expansion', 'revenue', 'expenditure', 'areas', 'consume', 'significantly', 'energy', 'rural', 'villages', 'heating', 'cooking', 'transportation', 'electricity', 'instance', 'today', 'populations', 'cars', 'rural', '1930s', 'united', 'states', 'home', 'cars', 'produced', 'worldwide', 'today', 'car', 'citizens', 'top', 'terms', 'greenhouse', 'gas', 'emissions', 'united', 'states', 'norm', 'cars', 'road', 'worldwide', '2050', 'generating', 'emissions', 'destroying', 'environment', 'initiatives', 'strategies', 'applications', 'gradually', 'spread', 'positive', 'negative', 'effects', 'emergency', 'response', 'times', 'typical', 'commute', 'times', 'disease', 'improved', '10', 'greenhouse', 'gas', 'emissions', 'decreased', '10', 'cities', 'mckinsey', 'global', 'institute', '2018', 'authorities', 'increase', 'effectiveness', 'valuing', 'intelligent', 'technologies', 'data', 'collection', 'applications', 'support', 'processes', 'enhance', 'public', 'procurement', 'basukie', '2020', 'bellini', '2022', 'oecd', '2016', 'additionally', 'citizens', 'direct', 'conversations', 'higher', 'levels', 'trust', 'desouza', 'bhagwatwar', '2012', 'infrastructure', 'enables', 'data', 'collection', 'marginalised', 'social', 'groups', 'women', 'elderly', 'people', 'disabilities', 'informal', 'settlements', 'sectors', 'potential', 'support', 'social', 'inclusion', 'adopting', 'public', 'policies', 'specifically', 'address', 'groups', 'made', 'easier', 'adoption', 'applications', 'raises', 'privacy', 'security', 'safety', 'ethical', 'concerns', 'including', 'problems', 'risk', 'technological', 'cases', 'private', 'companies', 'propose', 'technologies', 'depend', 'solely', 'maintenance', 'support', 'creating', 'control', 'technologies', 'clever', '2018', 'kitchin', '2016', 'risk', 'biassed', 'inferences', 'applications', 'crime', 'detection', 'mechanisms', 'generate', 'inaccurate', 'characterizations', 'create', 'reinforce', 'social', 'stigma', 'personal', 'harm', 'kitchin', '2016', 'onufrey', 'bergek', '2021', 'corporatization', 'governance', 'risk', 'business', 'model', 'logic', 'misinterpreted', 'logic', 'leading', 'citizens', 'treated', 'unfairly', 'customers', 'adopting', 'practises', 'undermine', 'government', 'social', 'environmental', 'goals', 'corporatization', 'business', 'models', 'onufrey', 'bergek', '2021', 'timeus', '2020', 'wide', 'factors', 'financial', 'recessions', 'wars', 'food', 'security', 'pandemics', 'political', 'unrest', 'rapid', 'urbanisation', 'technological', 'advancements', 'impact', 'projections', 'thing', 'upcoming', 'decades', 'cities', 'places', 'factors', 'centre', 'stage', 'blackcoffer', 'insights', '47', 'rajshree', 'kumari', 'college']\n"
          ]
        }
      ]
    },
    {
      "cell_type": "markdown",
      "source": [
        "#Extracting Derived variables(Positive,Negative,Polaity and Subjective score )\n",
        ""
      ],
      "metadata": {
        "id": "ZwBytqG4umZ1"
      }
    },
    {
      "cell_type": "markdown",
      "source": [
        "\n",
        "\n",
        "1.   **Positive Score**: This score is calculated by assigning the value of +1 for each word if found in the Positive Dictionary and then adding up all the values\n",
        "\n",
        "1.  **Negative Score**: This score is calculated by assigning the value of -1 for each word if found in the Negative Dictionary and then adding up all the values. We multiply the score with -1 so that the score is a positive number.\n",
        "2.   **Polarity Score:** This is the score that determines if a given text is positive or negative in nature. It is calculated by using the formula:\n",
        "Polarity Score = (Positive Score – Negative Score)/ ((Positive Score + Negative Score) + 0.000001)\n",
        "Range is from -1 to +1\n",
        "\n",
        "2.  **Subjectivity Score**: This is the score that determines if a given text is objective or subjective. It is calculated by using the formula:\n",
        "Subjectivity Score = (Positive Score + Negative Score)/ ((Total Words after cleaning) + 0.000001)\n",
        "Range is from 0 to +1\n",
        "\n",
        "\n"
      ],
      "metadata": {
        "id": "Ox5tZoJDvn2e"
      }
    },
    {
      "cell_type": "code",
      "source": [
        "def Positive_score(filtered_tokens):\n",
        "    posword = 0\n",
        "    for token in filtered_tokens:\n",
        "        if token in positiveWordList:\n",
        "            posword += 1\n",
        "    return posword\n"
      ],
      "metadata": {
        "id": "jR5I_Iip3TVh"
      },
      "execution_count": 154,
      "outputs": []
    },
    {
      "cell_type": "code",
      "source": [
        "def Negative_score(data_list):\n",
        "    negword = 0\n",
        "    for token in data_list:\n",
        "        if token in negativeWordList:\n",
        "            negword += 1\n",
        "    return negword\n"
      ],
      "metadata": {
        "id": "5hiuJRqf5KyB"
      },
      "execution_count": 155,
      "outputs": []
    },
    {
      "cell_type": "code",
      "source": [
        "def Polarity_score (Positive_score , Negative_score) :\n",
        "  return (Positive_score - Negative_score) / ((Positive_score + Negative_score) + 0.000001)"
      ],
      "metadata": {
        "id": "TJMFVKJN7R77"
      },
      "execution_count": 156,
      "outputs": []
    },
    {
      "cell_type": "code",
      "source": [
        "def Subjective_score(Positive_score, Negative_score, total_words):\n",
        "    return (Positive_score + Negative_score) / (total_words + 0.000001)\n"
      ],
      "metadata": {
        "id": "OABtEkTJ8ohY"
      },
      "execution_count": 157,
      "outputs": []
    },
    {
      "cell_type": "markdown",
      "source": [
        "# Analysis of Readability"
      ],
      "metadata": {
        "id": "_k5YwG8-vFsL"
      }
    },
    {
      "cell_type": "markdown",
      "source": [
        "\n",
        "\n",
        "1.   **Average Sentence Length** = the number of words / the number of sentences\n",
        "\n",
        "2.   **Percentage of Complex words** = the number of complex words / the number of words\n",
        "\n",
        "3.  **Fog Index** = 0.4 * (Average Sentence Length + Percentage of Complex words)\n",
        "\n",
        "\n",
        "\n",
        "\n"
      ],
      "metadata": {
        "id": "TPDElT9BvLKY"
      }
    },
    {
      "cell_type": "code",
      "source": [
        "from nltk.tokenize import sent_tokenize, word_tokenize\n",
        "\n",
        "def AverageSentenceLength(data_list):\n",
        "\n",
        "    data_list = ' '.join(data_list)\n",
        "    Wordcount = len(word_tokenize(data_list))\n",
        "    SentenceCount = len(sent_tokenize(data_list))\n",
        "    if SentenceCount > 0:\n",
        "        Average_Sentence_Length = Wordcount / SentenceCount\n",
        "    else:\n",
        "        Average_Sentence_Length = 0  # Handle the case where there are no sentence\n",
        "\n",
        "    return round(Average_Sentence_Length)\n",
        "\n",
        "# Combine the lines into a single string\n",
        "\n",
        "\n",
        "# Example usage:\n",
        "AverageSentenceLength(firstdata)"
      ],
      "metadata": {
        "colab": {
          "base_uri": "https://localhost:8080/"
        },
        "id": "fjJLkIj5_EIY",
        "outputId": "3a1807f7-9f16-4176-880c-59b945cd4245"
      },
      "execution_count": 158,
      "outputs": [
        {
          "output_type": "execute_result",
          "data": {
            "text/plain": [
              "26"
            ]
          },
          "metadata": {},
          "execution_count": 158
        }
      ]
    },
    {
      "cell_type": "code",
      "source": [
        "def complex_word_percentage(data_list):\n",
        "    data_list = ' '.join(data_list)\n",
        "    # Assuming tokenizer is defined elsewhere to tokenize the data_list\n",
        "    tokens = tokenizer(data_list)\n",
        "    complexWord = 0\n",
        "\n",
        "    for word in tokens:\n",
        "        vowels = sum(1 for char in word if char.lower() in 'aeiou')  # Count vowels\n",
        "        if not word.endswith(('es', 'ed')):\n",
        "            if vowels > 2:\n",
        "                complexWord += 1\n",
        "        ComplexWordPercentage = complexWord/len(tokens)\n",
        "    return ComplexWordPercentage  # Corrected variable name to return the count of complex words\n",
        "\n",
        "\n",
        "complex_word_percentage(firstdata)"
      ],
      "metadata": {
        "colab": {
          "base_uri": "https://localhost:8080/"
        },
        "id": "qEhNJYSZBhEm",
        "outputId": "b2ae2cee-222c-473f-8f89-e3ceddc51321"
      },
      "execution_count": 159,
      "outputs": [
        {
          "output_type": "execute_result",
          "data": {
            "text/plain": [
              "0.0"
            ]
          },
          "metadata": {},
          "execution_count": 159
        }
      ]
    },
    {
      "cell_type": "code",
      "source": [
        "def fog_index(Average_Sentence_Length, complex_word_percentage):\n",
        "    fogIndex = 0.4 * (Average_Sentence_Length + complex_word_percentage)\n",
        "    return fogIndex"
      ],
      "metadata": {
        "id": "CRf2lT-4DtYf"
      },
      "execution_count": 160,
      "outputs": []
    },
    {
      "cell_type": "markdown",
      "source": [
        "# Average Number of Words Per Sentence"
      ],
      "metadata": {
        "id": "IBYVZ_24wdt2"
      }
    },
    {
      "cell_type": "markdown",
      "source": [
        "\n",
        "**Average Number of Words Per Sentence** = the total number of words / the total number of sentences\n",
        "\n"
      ],
      "metadata": {
        "id": "IhladQ2uwhU8"
      }
    },
    {
      "cell_type": "code",
      "source": [
        "def average_words_per_sentence(text):\n",
        "    text = ' '.join(text)\n",
        "    # Split the text into sentences using simple splitting based on common punctuation marks\n",
        "    sentences = [sentence.strip() for sentence in text.split('.') if sentence.strip()]  # Split on period (.), assuming sentences end with period\n",
        "\n",
        "    # Calculate the total number of words in the entire text\n",
        "    words = text.split()  # Split text into words based on whitespace\n",
        "    total_words = len(words)\n",
        "\n",
        "    # Calculate the total number of sentences\n",
        "    total_sentences = len(sentences)\n",
        "\n",
        "    # Calculate the average number of words per sentence\n",
        "    if total_sentences > 0:\n",
        "        average_words_per_sentence = total_words / total_sentences\n",
        "    else:\n",
        "        average_words_per_sentence = 0  # Handle division by zero if there are no sentences\n",
        "\n",
        "    return average_words_per_sentence\n",
        "\n",
        "\n",
        "avg_words_per_sentence = average_words_per_sentence(firstdata)\n",
        "print(\"Average words per sentence:\", avg_words_per_sentence)\n"
      ],
      "metadata": {
        "colab": {
          "base_uri": "https://localhost:8080/"
        },
        "id": "iwk4qgZTPXR5",
        "outputId": "b1d4aad5-6b11-45a0-99c7-3a0067277b31"
      },
      "execution_count": 161,
      "outputs": [
        {
          "output_type": "stream",
          "name": "stdout",
          "text": [
            "Average words per sentence: 19.303370786516854\n"
          ]
        }
      ]
    },
    {
      "cell_type": "markdown",
      "source": [
        "# Complex Word Count\n",
        "\n",
        "Complex words are words in the text that contain more than two syllables."
      ],
      "metadata": {
        "id": "q6UHiJ0Sxa6P"
      }
    },
    {
      "cell_type": "code",
      "source": [
        "def complex_word_count(data_list):\n",
        "    # Assuming tokenizer is defined elsewhere to tokenize the data_list\n",
        "    tokens = tokenizer(data_list)\n",
        "    complexWord = 0\n",
        "\n",
        "    for word in tokens:\n",
        "        vowels = sum(1 for char in word if char.lower() in 'aeiou')  # Count vowels\n",
        "        if vowels > 2:\n",
        "          complexWord += 1\n",
        "    return complexWord  # Corrected variable name to return the count of complex words\n",
        "\n",
        "\n",
        "complex_word_count(firstdata)"
      ],
      "metadata": {
        "id": "kXLb27VIVJ8h",
        "colab": {
          "base_uri": "https://localhost:8080/"
        },
        "outputId": "0c9d1846-2f9b-4da6-847d-25ff86362405"
      },
      "execution_count": 162,
      "outputs": [
        {
          "output_type": "execute_result",
          "data": {
            "text/plain": [
              "457"
            ]
          },
          "metadata": {},
          "execution_count": 162
        }
      ]
    },
    {
      "cell_type": "markdown",
      "source": [
        "# Word Count\n",
        "counting total cleaned words present in the text by\n",
        "removing the stop words (using stopwords class of nltk package).\n",
        "removing any punctuations like ? ! , . from the word before counting.\n"
      ],
      "metadata": {
        "id": "ZelJrW84xpV9"
      }
    },
    {
      "cell_type": "code",
      "source": [
        "def filteredwords_count(data_list):\n",
        "  all_filtered_words = []\n",
        "\n",
        "  for text in data_list:\n",
        "    # Tokenize the current string\n",
        "    tokens = nltk.word_tokenize(text.lower())\n",
        "\n",
        "    # Filter tokens using stop words list\n",
        "    filtered_words = [token for token in tokens if token not in stopWordList]\n",
        "\n",
        "    # Remove punctuation\n",
        "    filtered_words = [word for word in filtered_words if word.isalnum()]\n",
        "\n",
        "    # Append filtered words to the list of all filtered words\n",
        "    all_filtered_words.extend(filtered_words)\n",
        "    filteredwordcount = len(all_filtered_words)\n",
        "\n",
        "  return filteredwordcount\n",
        "\n",
        "filteredwords_count(firstdata)"
      ],
      "metadata": {
        "colab": {
          "base_uri": "https://localhost:8080/"
        },
        "id": "2Xk2gxabT9Jl",
        "outputId": "c2c669b5-d7fc-426b-c3dc-754e2de5316e"
      },
      "execution_count": 163,
      "outputs": [
        {
          "output_type": "execute_result",
          "data": {
            "text/plain": [
              "768"
            ]
          },
          "metadata": {},
          "execution_count": 163
        }
      ]
    },
    {
      "cell_type": "markdown",
      "source": [
        "# Personal Pronouns\n",
        "To calculate Personal Pronouns mentioned in the text, we use regex to find the counts of the words - “I,” “we,” “my,” “ours,” and “us”. Special care is taken so that the country name US is not included in the list."
      ],
      "metadata": {
        "id": "IWxNQzhb4scG"
      }
    },
    {
      "cell_type": "code",
      "source": [
        "def count_personal_pronouns(text):\n",
        "    text = ' '.join(text)\n",
        "    # Convert the text to lowercase for case-insensitive matching\n",
        "    text_lower = text.lower()\n",
        "\n",
        "    # Define the list of personal pronouns\n",
        "    personal_pronouns = [\"i\", \"we\", \"my\", \"ours\", \"us\"]\n",
        "\n",
        "    # Initialize counts dictionary\n",
        "    counts = {pronoun: 0 for pronoun in personal_pronouns}\n",
        "\n",
        "    # Split the text into words\n",
        "    words = text_lower.split()\n",
        "\n",
        "    # Count the occurrences of personal pronouns\n",
        "    for word in words:\n",
        "        # Exclude the word \"us\" if it's part of a country name like \"US\"\n",
        "        if word == 'us' and not ('u.s.' in text_lower or 'united states' in text_lower):\n",
        "            continue\n",
        "\n",
        "        # Increment the count for the pronoun if it matches any personal pronoun\n",
        "        if word in personal_pronouns:\n",
        "            counts[word] += 1\n",
        "            result = len(counts)\n",
        "\n",
        "    return result\n",
        "\n",
        "count_personal_pronouns(firstdata)"
      ],
      "metadata": {
        "colab": {
          "base_uri": "https://localhost:8080/"
        },
        "id": "pCIJ6UK914xw",
        "outputId": "73b28cde-9be5-4e8b-c18a-b971d21f8bc0"
      },
      "execution_count": 164,
      "outputs": [
        {
          "output_type": "execute_result",
          "data": {
            "text/plain": [
              "5"
            ]
          },
          "metadata": {},
          "execution_count": 164
        }
      ]
    },
    {
      "cell_type": "markdown",
      "source": [
        "# Average Word Length\n",
        "**Average Word Length is calculated by the formula:**\n",
        "Sum of the total number of characters in each word/Total number of words\n"
      ],
      "metadata": {
        "id": "fmMjEGNK7fj6"
      }
    },
    {
      "cell_type": "code",
      "source": [
        "def average_word_length(text):\n",
        "    text = ' '.join(text)\n",
        "    # Split the text into words\n",
        "    words = text.split()\n",
        "\n",
        "    # Calculate the total number of characters in all words\n",
        "    total_characters = sum(len(word) for word in words)\n",
        "\n",
        "    # Calculate the total number of words\n",
        "    total_words = len(words)\n",
        "\n",
        "    # Calculate the average word length\n",
        "    if total_words > 0:\n",
        "        average_length = total_characters / total_words\n",
        "    else:\n",
        "        average_length = 0\n",
        "\n",
        "    return average_length\n",
        "\n",
        "\n",
        "average_len = average_word_length(firstdata)\n",
        "print(average_len)\n"
      ],
      "metadata": {
        "colab": {
          "base_uri": "https://localhost:8080/"
        },
        "id": "caUiu5oY2y_f",
        "outputId": "76f6172a-ce0b-4fa9-e151-4eab9137589b"
      },
      "execution_count": 165,
      "outputs": [
        {
          "output_type": "stream",
          "name": "stdout",
          "text": [
            "5.511059371362049\n"
          ]
        }
      ]
    },
    {
      "cell_type": "code",
      "source": [
        "import requests\n",
        "from bs4 import BeautifulSoup\n",
        "import pandas as pd\n",
        "\n",
        "URLS = data['URL']\n",
        "corps = []\n",
        "article_titles=[]\n",
        "\n",
        "# Filter out URLs that don't result in a 404 error\n",
        "URLS = [url for url in URLS if requests.head(url).status_code != 404]\n",
        "\n",
        "for url in URLS:\n",
        "    try:\n",
        "        response = requests.get(url, headers={\"User-Agent\": \"XY\"})\n",
        "        response.raise_for_status()  # Raise an exception for other HTTP errors\n",
        "        soup = BeautifulSoup(response.text, 'html.parser')\n",
        "\n",
        "        article_title = soup.find('title').text\n",
        "        article_titles.append(article_title)\n",
        "\n",
        "        # Get article text\n",
        "        text = soup.find(attrs={'class': 'td-post-content'}).get_text(strip = True, separator='\\n')\n",
        "        corps.append(text)\n",
        "\n",
        "    except Exception as e:\n",
        "        print(f\"Error processing URL {url}: {e}\")\n",
        "\n",
        "# Create DataFrame\n",
        "final = pd.DataFrame({'title': article_titles, 'corps': corps})\n"
      ],
      "metadata": {
        "id": "fgaTCS8RE27C"
      },
      "execution_count": 166,
      "outputs": []
    },
    {
      "cell_type": "code",
      "source": [
        "def tokenizer(text):\n",
        "    tokens = nltk.word_tokenize(text.lower())\n",
        "    filtered_words = [token for token in tokens if token not in stopWordList]\n",
        "    filtered_words = [word for word in filtered_words if word.isalnum()]\n",
        "    return filtered_words\n",
        "\n",
        "final['filtered_tokens'] = final['corps'].apply(tokenizer)\n",
        "final['URL'] = URLS\n",
        "final['Positive_Score'] = final['filtered_tokens'].apply(Positive_score)\n",
        "final['Negative_Score'] = final['filtered_tokens'].apply(Negative_score)\n",
        "final['Polarity_score'] =  np.vectorize(Polarity_score)(final['Positive_Score'],final['Negative_Score'])\n",
        "final['Subjective_Score'] = final.apply(lambda row: Subjective_score(row['Positive_Score'], row['Negative_Score'], len(row['filtered_tokens'])), axis=1)\n",
        "final['Average_Sentence_Length'] = final['corps'].apply(AverageSentenceLength)\n",
        "final['Complex_Word_Percentage'] = final['filtered_tokens'].apply(complex_word_percentage)\n",
        "final['Fog_Index'] = np.vectorize(Polarity_score)(final['Average_Sentence_Length'],final['Complex_Word_Percentage'])\n",
        "final['Average_Words_Per_Sentence'] = final['corps'].apply(average_words_per_sentence)\n",
        "final['Complex_Word_Count'] = final['corps'].apply(complex_word_count)\n",
        "final['Words_Count'] = final['corps'].apply(filteredwords_count)\n",
        "final['Personal_Pronouns'] = final['corps'].apply(count_personal_pronouns)\n",
        "final['Average_Word_Length'] = final['filtered_tokens'].apply(average_word_length)"
      ],
      "metadata": {
        "id": "iwMpUY1mOdfk"
      },
      "execution_count": 174,
      "outputs": []
    },
    {
      "cell_type": "code",
      "source": [
        "final.drop(['filtered_tokens','corps'],axis = 1)"
      ],
      "metadata": {
        "colab": {
          "base_uri": "https://localhost:8080/",
          "height": 999
        },
        "id": "iRdYCTMuM7CH",
        "outputId": "4a9d477b-5c46-468d-c198-d9cd851c5904"
      },
      "execution_count": 177,
      "outputs": [
        {
          "output_type": "execute_result",
          "data": {
            "text/plain": [
              "                                                title  Positive_Score  \\\n",
              "0   Rising IT cities and its impact on the economy...              26   \n",
              "1   Rising IT Cities and Their Impact on the Econo...              51   \n",
              "2   Internet Demand's Evolution, Communication Imp...              36   \n",
              "3   Rise of Cybercrime and its Effect in upcoming ...              35   \n",
              "4   OTT platform and its impact on the entertainme...              20   \n",
              "..                                                ...             ...   \n",
              "93  Due to the COVID-19 the repercussion of the en...              25   \n",
              "94  Impact of COVID-19 pandemic on office space an...              21   \n",
              "95  Contribution of handicrafts (Visual Arts & Lit...               5   \n",
              "96  How COVID-19 is impacting payment preferences?...              12   \n",
              "97  How will COVID-19 affect the world of work? - ...              29   \n",
              "\n",
              "    Negative_Score  Polarity_score  Subjective_Score  Average_Sentence_Length  \\\n",
              "0                6        0.625000          0.066667                       73   \n",
              "1               31        0.243902          0.121481                      100   \n",
              "2               23        0.220339          0.100000                      117   \n",
              "3               74       -0.357798          0.186644                      124   \n",
              "4                8        0.428571          0.086687                       97   \n",
              "..             ...             ...               ...                      ...   \n",
              "93              54       -0.367089          0.153101                      113   \n",
              "94              35       -0.250000          0.142857                      133   \n",
              "95               3        0.250000          0.040404                       88   \n",
              "96               3        0.600000          0.059761                       82   \n",
              "97              58       -0.333333          0.179381                      162   \n",
              "\n",
              "    Complex_Word_Percentage  Fog_Index  Average_Words_Per_Sentence  \\\n",
              "0                  0.381250   0.989609                   72.772152   \n",
              "1                  0.468148   0.990681                  100.402439   \n",
              "2                  0.537288   0.990858                  117.350877   \n",
              "3                  0.547945   0.991201                  124.288462   \n",
              "4                  0.439628   0.990976                   96.775000   \n",
              "..                      ...        ...                         ...   \n",
              "93                 0.408915   0.992789                  113.264151   \n",
              "94                 0.367347   0.994491                  133.358974   \n",
              "95                 0.454545   0.989722                   88.240000   \n",
              "96                 0.378486   0.990811                   84.771429   \n",
              "97                 0.406186   0.994998                  162.485714   \n",
              "\n",
              "    Complex_Word_Count  Words_Count  Personal_Pronouns  Average_Word_Length  \\\n",
              "0                  243           66                  5             6.843750   \n",
              "1                  423           61                  5             7.651852   \n",
              "2                  394           28                  5             8.313559   \n",
              "3                  376           54                  5             8.162671   \n",
              "4                  180           18                  5             7.761610   \n",
              "..                 ...          ...                ...                  ...   \n",
              "93                 274           43                  5             7.343023   \n",
              "94                 197           12                  5             6.785714   \n",
              "95                 102           32                  5             7.196970   \n",
              "96                 109           51                  5             6.390438   \n",
              "97                 259           64                  5             7.185567   \n",
              "\n",
              "                                                  URL  \n",
              "0   https://insights.blackcoffer.com/rising-it-cit...  \n",
              "1   https://insights.blackcoffer.com/rising-it-cit...  \n",
              "2   https://insights.blackcoffer.com/internet-dema...  \n",
              "3   https://insights.blackcoffer.com/rise-of-cyber...  \n",
              "4   https://insights.blackcoffer.com/ott-platform-...  \n",
              "..                                                ...  \n",
              "93  https://insights.blackcoffer.com/what-is-the-r...  \n",
              "94  https://insights.blackcoffer.com/impact-of-cov...  \n",
              "95  https://insights.blackcoffer.com/contribution-...  \n",
              "96  https://insights.blackcoffer.com/how-covid-19-...  \n",
              "97  https://insights.blackcoffer.com/how-will-covi...  \n",
              "\n",
              "[98 rows x 14 columns]"
            ],
            "text/html": [
              "\n",
              "  <div id=\"df-db750e6d-ebdb-45b2-8cb0-007a0f16faf4\" class=\"colab-df-container\">\n",
              "    <div>\n",
              "<style scoped>\n",
              "    .dataframe tbody tr th:only-of-type {\n",
              "        vertical-align: middle;\n",
              "    }\n",
              "\n",
              "    .dataframe tbody tr th {\n",
              "        vertical-align: top;\n",
              "    }\n",
              "\n",
              "    .dataframe thead th {\n",
              "        text-align: right;\n",
              "    }\n",
              "</style>\n",
              "<table border=\"1\" class=\"dataframe\">\n",
              "  <thead>\n",
              "    <tr style=\"text-align: right;\">\n",
              "      <th></th>\n",
              "      <th>title</th>\n",
              "      <th>Positive_Score</th>\n",
              "      <th>Negative_Score</th>\n",
              "      <th>Polarity_score</th>\n",
              "      <th>Subjective_Score</th>\n",
              "      <th>Average_Sentence_Length</th>\n",
              "      <th>Complex_Word_Percentage</th>\n",
              "      <th>Fog_Index</th>\n",
              "      <th>Average_Words_Per_Sentence</th>\n",
              "      <th>Complex_Word_Count</th>\n",
              "      <th>Words_Count</th>\n",
              "      <th>Personal_Pronouns</th>\n",
              "      <th>Average_Word_Length</th>\n",
              "      <th>URL</th>\n",
              "    </tr>\n",
              "  </thead>\n",
              "  <tbody>\n",
              "    <tr>\n",
              "      <th>0</th>\n",
              "      <td>Rising IT cities and its impact on the economy...</td>\n",
              "      <td>26</td>\n",
              "      <td>6</td>\n",
              "      <td>0.625000</td>\n",
              "      <td>0.066667</td>\n",
              "      <td>73</td>\n",
              "      <td>0.381250</td>\n",
              "      <td>0.989609</td>\n",
              "      <td>72.772152</td>\n",
              "      <td>243</td>\n",
              "      <td>66</td>\n",
              "      <td>5</td>\n",
              "      <td>6.843750</td>\n",
              "      <td>https://insights.blackcoffer.com/rising-it-cit...</td>\n",
              "    </tr>\n",
              "    <tr>\n",
              "      <th>1</th>\n",
              "      <td>Rising IT Cities and Their Impact on the Econo...</td>\n",
              "      <td>51</td>\n",
              "      <td>31</td>\n",
              "      <td>0.243902</td>\n",
              "      <td>0.121481</td>\n",
              "      <td>100</td>\n",
              "      <td>0.468148</td>\n",
              "      <td>0.990681</td>\n",
              "      <td>100.402439</td>\n",
              "      <td>423</td>\n",
              "      <td>61</td>\n",
              "      <td>5</td>\n",
              "      <td>7.651852</td>\n",
              "      <td>https://insights.blackcoffer.com/rising-it-cit...</td>\n",
              "    </tr>\n",
              "    <tr>\n",
              "      <th>2</th>\n",
              "      <td>Internet Demand's Evolution, Communication Imp...</td>\n",
              "      <td>36</td>\n",
              "      <td>23</td>\n",
              "      <td>0.220339</td>\n",
              "      <td>0.100000</td>\n",
              "      <td>117</td>\n",
              "      <td>0.537288</td>\n",
              "      <td>0.990858</td>\n",
              "      <td>117.350877</td>\n",
              "      <td>394</td>\n",
              "      <td>28</td>\n",
              "      <td>5</td>\n",
              "      <td>8.313559</td>\n",
              "      <td>https://insights.blackcoffer.com/internet-dema...</td>\n",
              "    </tr>\n",
              "    <tr>\n",
              "      <th>3</th>\n",
              "      <td>Rise of Cybercrime and its Effect in upcoming ...</td>\n",
              "      <td>35</td>\n",
              "      <td>74</td>\n",
              "      <td>-0.357798</td>\n",
              "      <td>0.186644</td>\n",
              "      <td>124</td>\n",
              "      <td>0.547945</td>\n",
              "      <td>0.991201</td>\n",
              "      <td>124.288462</td>\n",
              "      <td>376</td>\n",
              "      <td>54</td>\n",
              "      <td>5</td>\n",
              "      <td>8.162671</td>\n",
              "      <td>https://insights.blackcoffer.com/rise-of-cyber...</td>\n",
              "    </tr>\n",
              "    <tr>\n",
              "      <th>4</th>\n",
              "      <td>OTT platform and its impact on the entertainme...</td>\n",
              "      <td>20</td>\n",
              "      <td>8</td>\n",
              "      <td>0.428571</td>\n",
              "      <td>0.086687</td>\n",
              "      <td>97</td>\n",
              "      <td>0.439628</td>\n",
              "      <td>0.990976</td>\n",
              "      <td>96.775000</td>\n",
              "      <td>180</td>\n",
              "      <td>18</td>\n",
              "      <td>5</td>\n",
              "      <td>7.761610</td>\n",
              "      <td>https://insights.blackcoffer.com/ott-platform-...</td>\n",
              "    </tr>\n",
              "    <tr>\n",
              "      <th>...</th>\n",
              "      <td>...</td>\n",
              "      <td>...</td>\n",
              "      <td>...</td>\n",
              "      <td>...</td>\n",
              "      <td>...</td>\n",
              "      <td>...</td>\n",
              "      <td>...</td>\n",
              "      <td>...</td>\n",
              "      <td>...</td>\n",
              "      <td>...</td>\n",
              "      <td>...</td>\n",
              "      <td>...</td>\n",
              "      <td>...</td>\n",
              "      <td>...</td>\n",
              "    </tr>\n",
              "    <tr>\n",
              "      <th>93</th>\n",
              "      <td>Due to the COVID-19 the repercussion of the en...</td>\n",
              "      <td>25</td>\n",
              "      <td>54</td>\n",
              "      <td>-0.367089</td>\n",
              "      <td>0.153101</td>\n",
              "      <td>113</td>\n",
              "      <td>0.408915</td>\n",
              "      <td>0.992789</td>\n",
              "      <td>113.264151</td>\n",
              "      <td>274</td>\n",
              "      <td>43</td>\n",
              "      <td>5</td>\n",
              "      <td>7.343023</td>\n",
              "      <td>https://insights.blackcoffer.com/what-is-the-r...</td>\n",
              "    </tr>\n",
              "    <tr>\n",
              "      <th>94</th>\n",
              "      <td>Impact of COVID-19 pandemic on office space an...</td>\n",
              "      <td>21</td>\n",
              "      <td>35</td>\n",
              "      <td>-0.250000</td>\n",
              "      <td>0.142857</td>\n",
              "      <td>133</td>\n",
              "      <td>0.367347</td>\n",
              "      <td>0.994491</td>\n",
              "      <td>133.358974</td>\n",
              "      <td>197</td>\n",
              "      <td>12</td>\n",
              "      <td>5</td>\n",
              "      <td>6.785714</td>\n",
              "      <td>https://insights.blackcoffer.com/impact-of-cov...</td>\n",
              "    </tr>\n",
              "    <tr>\n",
              "      <th>95</th>\n",
              "      <td>Contribution of handicrafts (Visual Arts &amp; Lit...</td>\n",
              "      <td>5</td>\n",
              "      <td>3</td>\n",
              "      <td>0.250000</td>\n",
              "      <td>0.040404</td>\n",
              "      <td>88</td>\n",
              "      <td>0.454545</td>\n",
              "      <td>0.989722</td>\n",
              "      <td>88.240000</td>\n",
              "      <td>102</td>\n",
              "      <td>32</td>\n",
              "      <td>5</td>\n",
              "      <td>7.196970</td>\n",
              "      <td>https://insights.blackcoffer.com/contribution-...</td>\n",
              "    </tr>\n",
              "    <tr>\n",
              "      <th>96</th>\n",
              "      <td>How COVID-19 is impacting payment preferences?...</td>\n",
              "      <td>12</td>\n",
              "      <td>3</td>\n",
              "      <td>0.600000</td>\n",
              "      <td>0.059761</td>\n",
              "      <td>82</td>\n",
              "      <td>0.378486</td>\n",
              "      <td>0.990811</td>\n",
              "      <td>84.771429</td>\n",
              "      <td>109</td>\n",
              "      <td>51</td>\n",
              "      <td>5</td>\n",
              "      <td>6.390438</td>\n",
              "      <td>https://insights.blackcoffer.com/how-covid-19-...</td>\n",
              "    </tr>\n",
              "    <tr>\n",
              "      <th>97</th>\n",
              "      <td>How will COVID-19 affect the world of work? - ...</td>\n",
              "      <td>29</td>\n",
              "      <td>58</td>\n",
              "      <td>-0.333333</td>\n",
              "      <td>0.179381</td>\n",
              "      <td>162</td>\n",
              "      <td>0.406186</td>\n",
              "      <td>0.994998</td>\n",
              "      <td>162.485714</td>\n",
              "      <td>259</td>\n",
              "      <td>64</td>\n",
              "      <td>5</td>\n",
              "      <td>7.185567</td>\n",
              "      <td>https://insights.blackcoffer.com/how-will-covi...</td>\n",
              "    </tr>\n",
              "  </tbody>\n",
              "</table>\n",
              "<p>98 rows × 14 columns</p>\n",
              "</div>\n",
              "    <div class=\"colab-df-buttons\">\n",
              "\n",
              "  <div class=\"colab-df-container\">\n",
              "    <button class=\"colab-df-convert\" onclick=\"convertToInteractive('df-db750e6d-ebdb-45b2-8cb0-007a0f16faf4')\"\n",
              "            title=\"Convert this dataframe to an interactive table.\"\n",
              "            style=\"display:none;\">\n",
              "\n",
              "  <svg xmlns=\"http://www.w3.org/2000/svg\" height=\"24px\" viewBox=\"0 -960 960 960\">\n",
              "    <path d=\"M120-120v-720h720v720H120Zm60-500h600v-160H180v160Zm220 220h160v-160H400v160Zm0 220h160v-160H400v160ZM180-400h160v-160H180v160Zm440 0h160v-160H620v160ZM180-180h160v-160H180v160Zm440 0h160v-160H620v160Z\"/>\n",
              "  </svg>\n",
              "    </button>\n",
              "\n",
              "  <style>\n",
              "    .colab-df-container {\n",
              "      display:flex;\n",
              "      gap: 12px;\n",
              "    }\n",
              "\n",
              "    .colab-df-convert {\n",
              "      background-color: #E8F0FE;\n",
              "      border: none;\n",
              "      border-radius: 50%;\n",
              "      cursor: pointer;\n",
              "      display: none;\n",
              "      fill: #1967D2;\n",
              "      height: 32px;\n",
              "      padding: 0 0 0 0;\n",
              "      width: 32px;\n",
              "    }\n",
              "\n",
              "    .colab-df-convert:hover {\n",
              "      background-color: #E2EBFA;\n",
              "      box-shadow: 0px 1px 2px rgba(60, 64, 67, 0.3), 0px 1px 3px 1px rgba(60, 64, 67, 0.15);\n",
              "      fill: #174EA6;\n",
              "    }\n",
              "\n",
              "    .colab-df-buttons div {\n",
              "      margin-bottom: 4px;\n",
              "    }\n",
              "\n",
              "    [theme=dark] .colab-df-convert {\n",
              "      background-color: #3B4455;\n",
              "      fill: #D2E3FC;\n",
              "    }\n",
              "\n",
              "    [theme=dark] .colab-df-convert:hover {\n",
              "      background-color: #434B5C;\n",
              "      box-shadow: 0px 1px 3px 1px rgba(0, 0, 0, 0.15);\n",
              "      filter: drop-shadow(0px 1px 2px rgba(0, 0, 0, 0.3));\n",
              "      fill: #FFFFFF;\n",
              "    }\n",
              "  </style>\n",
              "\n",
              "    <script>\n",
              "      const buttonEl =\n",
              "        document.querySelector('#df-db750e6d-ebdb-45b2-8cb0-007a0f16faf4 button.colab-df-convert');\n",
              "      buttonEl.style.display =\n",
              "        google.colab.kernel.accessAllowed ? 'block' : 'none';\n",
              "\n",
              "      async function convertToInteractive(key) {\n",
              "        const element = document.querySelector('#df-db750e6d-ebdb-45b2-8cb0-007a0f16faf4');\n",
              "        const dataTable =\n",
              "          await google.colab.kernel.invokeFunction('convertToInteractive',\n",
              "                                                    [key], {});\n",
              "        if (!dataTable) return;\n",
              "\n",
              "        const docLinkHtml = 'Like what you see? Visit the ' +\n",
              "          '<a target=\"_blank\" href=https://colab.research.google.com/notebooks/data_table.ipynb>data table notebook</a>'\n",
              "          + ' to learn more about interactive tables.';\n",
              "        element.innerHTML = '';\n",
              "        dataTable['output_type'] = 'display_data';\n",
              "        await google.colab.output.renderOutput(dataTable, element);\n",
              "        const docLink = document.createElement('div');\n",
              "        docLink.innerHTML = docLinkHtml;\n",
              "        element.appendChild(docLink);\n",
              "      }\n",
              "    </script>\n",
              "  </div>\n",
              "\n",
              "\n",
              "<div id=\"df-4f39589e-5b3f-4355-a3ff-01dee966b0ed\">\n",
              "  <button class=\"colab-df-quickchart\" onclick=\"quickchart('df-4f39589e-5b3f-4355-a3ff-01dee966b0ed')\"\n",
              "            title=\"Suggest charts\"\n",
              "            style=\"display:none;\">\n",
              "\n",
              "<svg xmlns=\"http://www.w3.org/2000/svg\" height=\"24px\"viewBox=\"0 0 24 24\"\n",
              "     width=\"24px\">\n",
              "    <g>\n",
              "        <path d=\"M19 3H5c-1.1 0-2 .9-2 2v14c0 1.1.9 2 2 2h14c1.1 0 2-.9 2-2V5c0-1.1-.9-2-2-2zM9 17H7v-7h2v7zm4 0h-2V7h2v10zm4 0h-2v-4h2v4z\"/>\n",
              "    </g>\n",
              "</svg>\n",
              "  </button>\n",
              "\n",
              "<style>\n",
              "  .colab-df-quickchart {\n",
              "      --bg-color: #E8F0FE;\n",
              "      --fill-color: #1967D2;\n",
              "      --hover-bg-color: #E2EBFA;\n",
              "      --hover-fill-color: #174EA6;\n",
              "      --disabled-fill-color: #AAA;\n",
              "      --disabled-bg-color: #DDD;\n",
              "  }\n",
              "\n",
              "  [theme=dark] .colab-df-quickchart {\n",
              "      --bg-color: #3B4455;\n",
              "      --fill-color: #D2E3FC;\n",
              "      --hover-bg-color: #434B5C;\n",
              "      --hover-fill-color: #FFFFFF;\n",
              "      --disabled-bg-color: #3B4455;\n",
              "      --disabled-fill-color: #666;\n",
              "  }\n",
              "\n",
              "  .colab-df-quickchart {\n",
              "    background-color: var(--bg-color);\n",
              "    border: none;\n",
              "    border-radius: 50%;\n",
              "    cursor: pointer;\n",
              "    display: none;\n",
              "    fill: var(--fill-color);\n",
              "    height: 32px;\n",
              "    padding: 0;\n",
              "    width: 32px;\n",
              "  }\n",
              "\n",
              "  .colab-df-quickchart:hover {\n",
              "    background-color: var(--hover-bg-color);\n",
              "    box-shadow: 0 1px 2px rgba(60, 64, 67, 0.3), 0 1px 3px 1px rgba(60, 64, 67, 0.15);\n",
              "    fill: var(--button-hover-fill-color);\n",
              "  }\n",
              "\n",
              "  .colab-df-quickchart-complete:disabled,\n",
              "  .colab-df-quickchart-complete:disabled:hover {\n",
              "    background-color: var(--disabled-bg-color);\n",
              "    fill: var(--disabled-fill-color);\n",
              "    box-shadow: none;\n",
              "  }\n",
              "\n",
              "  .colab-df-spinner {\n",
              "    border: 2px solid var(--fill-color);\n",
              "    border-color: transparent;\n",
              "    border-bottom-color: var(--fill-color);\n",
              "    animation:\n",
              "      spin 1s steps(1) infinite;\n",
              "  }\n",
              "\n",
              "  @keyframes spin {\n",
              "    0% {\n",
              "      border-color: transparent;\n",
              "      border-bottom-color: var(--fill-color);\n",
              "      border-left-color: var(--fill-color);\n",
              "    }\n",
              "    20% {\n",
              "      border-color: transparent;\n",
              "      border-left-color: var(--fill-color);\n",
              "      border-top-color: var(--fill-color);\n",
              "    }\n",
              "    30% {\n",
              "      border-color: transparent;\n",
              "      border-left-color: var(--fill-color);\n",
              "      border-top-color: var(--fill-color);\n",
              "      border-right-color: var(--fill-color);\n",
              "    }\n",
              "    40% {\n",
              "      border-color: transparent;\n",
              "      border-right-color: var(--fill-color);\n",
              "      border-top-color: var(--fill-color);\n",
              "    }\n",
              "    60% {\n",
              "      border-color: transparent;\n",
              "      border-right-color: var(--fill-color);\n",
              "    }\n",
              "    80% {\n",
              "      border-color: transparent;\n",
              "      border-right-color: var(--fill-color);\n",
              "      border-bottom-color: var(--fill-color);\n",
              "    }\n",
              "    90% {\n",
              "      border-color: transparent;\n",
              "      border-bottom-color: var(--fill-color);\n",
              "    }\n",
              "  }\n",
              "</style>\n",
              "\n",
              "  <script>\n",
              "    async function quickchart(key) {\n",
              "      const quickchartButtonEl =\n",
              "        document.querySelector('#' + key + ' button');\n",
              "      quickchartButtonEl.disabled = true;  // To prevent multiple clicks.\n",
              "      quickchartButtonEl.classList.add('colab-df-spinner');\n",
              "      try {\n",
              "        const charts = await google.colab.kernel.invokeFunction(\n",
              "            'suggestCharts', [key], {});\n",
              "      } catch (error) {\n",
              "        console.error('Error during call to suggestCharts:', error);\n",
              "      }\n",
              "      quickchartButtonEl.classList.remove('colab-df-spinner');\n",
              "      quickchartButtonEl.classList.add('colab-df-quickchart-complete');\n",
              "    }\n",
              "    (() => {\n",
              "      let quickchartButtonEl =\n",
              "        document.querySelector('#df-4f39589e-5b3f-4355-a3ff-01dee966b0ed button');\n",
              "      quickchartButtonEl.style.display =\n",
              "        google.colab.kernel.accessAllowed ? 'block' : 'none';\n",
              "    })();\n",
              "  </script>\n",
              "</div>\n",
              "\n",
              "    </div>\n",
              "  </div>\n"
            ],
            "application/vnd.google.colaboratory.intrinsic+json": {
              "type": "dataframe",
              "summary": "{\n  \"name\": \"final\",\n  \"rows\": 98,\n  \"fields\": [\n    {\n      \"column\": \"title\",\n      \"properties\": {\n        \"dtype\": \"string\",\n        \"num_unique_values\": 92,\n        \"samples\": [\n          \"Evolution of Advertising Industry - Blackcoffer Insights\",\n          \"An outlook of healthcare by the year 2040, and how it will impact human lives. - Blackcoffer Insights\",\n          \"Will technology eliminate the need for animal testing in drug development? - Blackcoffer Insights\"\n        ],\n        \"semantic_type\": \"\",\n        \"description\": \"\"\n      }\n    },\n    {\n      \"column\": \"Positive_Score\",\n      \"properties\": {\n        \"dtype\": \"number\",\n        \"std\": 20,\n        \"min\": 3,\n        \"max\": 128,\n        \"num_unique_values\": 48,\n        \"samples\": [\n          33,\n          43,\n          42\n        ],\n        \"semantic_type\": \"\",\n        \"description\": \"\"\n      }\n    },\n    {\n      \"column\": \"Negative_Score\",\n      \"properties\": {\n        \"dtype\": \"number\",\n        \"std\": 24,\n        \"min\": 0,\n        \"max\": 182,\n        \"num_unique_values\": 52,\n        \"samples\": [\n          24,\n          69,\n          30\n        ],\n        \"semantic_type\": \"\",\n        \"description\": \"\"\n      }\n    },\n    {\n      \"column\": \"Polarity_score\",\n      \"properties\": {\n        \"dtype\": \"number\",\n        \"std\": 0.4076271807387733,\n        \"min\": -0.5999999800000007,\n        \"max\": 0.999999958333335,\n        \"num_unique_values\": 91,\n        \"samples\": [\n          0.5172413733650417,\n          0.7391304026465042,\n          0.4545454476584023\n        ],\n        \"semantic_type\": \"\",\n        \"description\": \"\"\n      }\n    },\n    {\n      \"column\": \"Subjective_Score\",\n      \"properties\": {\n        \"dtype\": \"number\",\n        \"std\": 0.041736885840477946,\n        \"min\": 0.022727272598140495,\n        \"max\": 0.2525773189366564,\n        \"num_unique_values\": 97,\n        \"samples\": [\n          0.08843537399925956,\n          0.12393162375508315,\n          0.14285714249271136\n        ],\n        \"semantic_type\": \"\",\n        \"description\": \"\"\n      }\n    },\n    {\n      \"column\": \"Average_Sentence_Length\",\n      \"properties\": {\n        \"dtype\": \"number\",\n        \"std\": 90,\n        \"min\": 58,\n        \"max\": 968,\n        \"num_unique_values\": 59,\n        \"samples\": [\n          73,\n          125,\n          968\n        ],\n        \"semantic_type\": \"\",\n        \"description\": \"\"\n      }\n    },\n    {\n      \"column\": \"Complex_Word_Percentage\",\n      \"properties\": {\n        \"dtype\": \"number\",\n        \"std\": 0.06631604502870551,\n        \"min\": 0.2918454935622318,\n        \"max\": 0.5992691839220463,\n        \"num_unique_values\": 93,\n        \"samples\": [\n          0.525,\n          0.4979919678714859,\n          0.39211136890951276\n        ],\n        \"semantic_type\": \"\",\n        \"description\": \"\"\n      }\n    },\n    {\n      \"column\": \"Fog_Index\",\n      \"properties\": {\n        \"dtype\": \"number\",\n        \"std\": 0.0021335385513568134,\n        \"min\": 0.98388310683254,\n        \"max\": 0.9990332182869205,\n        \"num_unique_values\": 97,\n        \"samples\": [\n          0.9909445139045756,\n          0.9912299643143399,\n          0.9944911937673958\n        ],\n        \"semantic_type\": \"\",\n        \"description\": \"\"\n      }\n    },\n    {\n      \"column\": \"Average_Words_Per_Sentence\",\n      \"properties\": {\n        \"dtype\": \"number\",\n        \"std\": 101.40351978377736,\n        \"min\": 61.91044776119403,\n        \"max\": 1089.0,\n        \"num_unique_values\": 97,\n        \"samples\": [\n          105.14492753623189,\n          103.71084337349397,\n          133.35897435897436\n        ],\n        \"semantic_type\": \"\",\n        \"description\": \"\"\n      }\n    },\n    {\n      \"column\": \"Complex_Word_Count\",\n      \"properties\": {\n        \"dtype\": \"number\",\n        \"std\": 154,\n        \"min\": 27,\n        \"max\": 1021,\n        \"num_unique_values\": 88,\n        \"samples\": [\n          426,\n          243,\n          278\n        ],\n        \"semantic_type\": \"\",\n        \"description\": \"\"\n      }\n    },\n    {\n      \"column\": \"Words_Count\",\n      \"properties\": {\n        \"dtype\": \"number\",\n        \"std\": 59,\n        \"min\": 2,\n        \"max\": 510,\n        \"num_unique_values\": 56,\n        \"samples\": [\n          66,\n          43,\n          15\n        ],\n        \"semantic_type\": \"\",\n        \"description\": \"\"\n      }\n    },\n    {\n      \"column\": \"Personal_Pronouns\",\n      \"properties\": {\n        \"dtype\": \"number\",\n        \"std\": 0,\n        \"min\": 5,\n        \"max\": 5,\n        \"num_unique_values\": 1,\n        \"samples\": [\n          5\n        ],\n        \"semantic_type\": \"\",\n        \"description\": \"\"\n      }\n    },\n    {\n      \"column\": \"Average_Word_Length\",\n      \"properties\": {\n        \"dtype\": \"number\",\n        \"std\": 0.4538888239153202,\n        \"min\": 6.390438247011952,\n        \"max\": 8.329596412556054,\n        \"num_unique_values\": 97,\n        \"samples\": [\n          6.784013605442177\n        ],\n        \"semantic_type\": \"\",\n        \"description\": \"\"\n      }\n    },\n    {\n      \"column\": \"URL\",\n      \"properties\": {\n        \"dtype\": \"string\",\n        \"num_unique_values\": 98,\n        \"samples\": [\n          \"https://insights.blackcoffer.com/will-we-ever-colonize-outer-space/\"\n        ],\n        \"semantic_type\": \"\",\n        \"description\": \"\"\n      }\n    }\n  ]\n}"
            }
          },
          "metadata": {},
          "execution_count": 177
        }
      ]
    },
    {
      "cell_type": "code",
      "source": [
        "final.to_excel('Output Data Structure.xlsx')"
      ],
      "metadata": {
        "id": "o6y3QT77ZJ9k"
      },
      "execution_count": 178,
      "outputs": []
    },
    {
      "cell_type": "code",
      "source": [],
      "metadata": {
        "id": "qdWBldG-ZOSr"
      },
      "execution_count": null,
      "outputs": []
    }
  ]
}